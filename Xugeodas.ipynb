{
  "nbformat": 4,
  "nbformat_minor": 0,
  "metadata": {
    "colab": {
      "name": "Xugeodas.ipynb",
      "provenance": [],
      "collapsed_sections": []
    },
    "kernelspec": {
      "name": "python3",
      "display_name": "Python 3"
    }
  },
  "cells": [
    {
      "cell_type": "code",
      "metadata": {
        "id": "yYJECREdIF2b",
        "colab_type": "code",
        "colab": {}
      },
      "source": [
        "#Feature engineering libraries\n",
        "import numpy as np\n",
        "import pandas as pd\n",
        "#Data visualization\n",
        "import seaborn as sns\n",
        "import matplotlib.pyplot as plt\n",
        "%matplotlib inline\n",
        "#Library for Natural Language Processing\n",
        "import spacy\n",
        "#To filter stop words (most commonly used words)\n",
        "from spacy.lang.en.stop_words import STOP_WORDS\n",
        "#String manipulation and punctuation checking of the text\n",
        "import string\n",
        "#Determining the linguistic features (creating parser)\n",
        "from spacy.lang.en import English\n",
        "#Creating vocablary from text and checking the frequency of words\n",
        "from sklearn.feature_extraction.text import CountVectorizer,TfidfVectorizer\n",
        "#Checking the accuracy of the model\n",
        "from sklearn.metrics import accuracy_score\n",
        "#Pipelining to work on updating data\n",
        "from sklearn.base import TransformerMixin \n",
        "from sklearn.pipeline import Pipeline\n",
        "#Classifying the text data\n",
        "from sklearn.svm import LinearSVC\n",
        "#Splitting the data for training and testing\n",
        "from sklearn.model_selection import train_test_split"
      ],
      "execution_count": 0,
      "outputs": []
    },
    {
      "cell_type": "code",
      "metadata": {
        "id": "DWmRfMohVJ-9",
        "colab_type": "code",
        "colab": {
          "base_uri": "https://localhost:8080/",
          "height": 722
        },
        "outputId": "11a6c2b4-13d2-4375-8319-cacd82641bf0"
      },
      "source": [
        "#Loading data from git remote repo\n",
        "amzn_url = \"https://raw.githubusercontent.com/Xugeodas/SentimentAnalyzer/master/amazon_cells_labelled.txt\"\n",
        "imdb_url = \"https://raw.githubusercontent.com/Xugeodas/SentimentAnalyzer/master/imdb_labelled.txt\"\n",
        "yelp_url = \"https://raw.githubusercontent.com/Xugeodas/SentimentAnalyzer/master/yelp_labelled.txt\"\n",
        "#Storing as dataframe\n",
        "amzn_df = pd.read_table(amzn_url)\n",
        "imdb_df = pd.read_table(imdb_url)\n",
        "yelp_df = pd.read_table(yelp_url)\n",
        "print(amzn_df)\n",
        "print(imdb_df)\n",
        "print(yelp_df)"
      ],
      "execution_count": 3,
      "outputs": [
        {
          "output_type": "stream",
          "text": [
            "    So there is no way for me to plug it in here in the US unless I go by a converter.  0\n",
            "0                          Good case, Excellent value.                                  1\n",
            "1                               Great for the jawbone.                                  1\n",
            "2    Tied to charger for conversations lasting more...                                  0\n",
            "3                                    The mic is great.                                  1\n",
            "4    I have to jiggle the plug to get it to line up...                                  0\n",
            "..                                                 ...                                 ..\n",
            "994  The screen does get smudged easily because it ...                                  0\n",
            "995  What a piece of junk.. I lose more calls on th...                                  0\n",
            "996                       Item Does Not Match Picture.                                  0\n",
            "997  The only thing that disappoint me is the infra...                                  0\n",
            "998  You can not answer calls with the unit, never ...                                  0\n",
            "\n",
            "[999 rows x 2 columns]\n",
            "    A very, very, very slow-moving, aimless movie about a distressed, drifting young man.    0\n",
            "0    Not sure who was more lost - the flat characte...                                       0\n",
            "1    Attempting artiness with black & white and cle...                                       0\n",
            "2         Very little music or anything to speak of.                                         0\n",
            "3    The best scene in the movie was when Gerardo i...                                       1\n",
            "4    The rest of the movie lacks art, charm, meanin...                                       0\n",
            "..                                                 ...                                      ..\n",
            "742  I just got bored watching Jessice Lange take h...                                       0\n",
            "743  Unfortunately, any virtue in this film's produ...                                       0\n",
            "744                   In a word, it is embarrassing.                                         0\n",
            "745                               Exceptionally bad!                                         0\n",
            "746  All in all its an insult to one's intelligence...                                       0\n",
            "\n",
            "[747 rows x 2 columns]\n",
            "                              Wow... Loved this place.  1\n",
            "0                                   Crust is not good.  0\n",
            "1            Not tasty and the texture was just nasty.  0\n",
            "2    Stopped by during the late May bank holiday of...  1\n",
            "3    The selection on the menu was great and so wer...  1\n",
            "4       Now I am getting angry and I want my damn pho.  0\n",
            "..                                                 ... ..\n",
            "994  I think food should have flavor and texture an...  0\n",
            "995                           Appetite instantly gone.  0\n",
            "996  Overall I was not impressed and would not go b...  0\n",
            "997  The whole experience was underwhelming, and I ...  0\n",
            "998  Then, as if I hadn't wasted enough of my life ...  0\n",
            "\n",
            "[999 rows x 2 columns]\n"
          ],
          "name": "stdout"
        }
      ]
    },
    {
      "cell_type": "code",
      "metadata": {
        "id": "NDl-Fo2TauLH",
        "colab_type": "code",
        "colab": {
          "base_uri": "https://localhost:8080/",
          "height": 689
        },
        "outputId": "3dc3e037-d5c8-4b59-979f-5b6602450a43"
      },
      "source": [
        "#Concatenating dataframe into 1 list\n",
        "dataSet = [amzn_df,imdb_df,yelp_df]\n",
        "print(dataSet)"
      ],
      "execution_count": 4,
      "outputs": [
        {
          "output_type": "stream",
          "text": [
            "[    So there is no way for me to plug it in here in the US unless I go by a converter.  0\n",
            "0                          Good case, Excellent value.                                  1\n",
            "1                               Great for the jawbone.                                  1\n",
            "2    Tied to charger for conversations lasting more...                                  0\n",
            "3                                    The mic is great.                                  1\n",
            "4    I have to jiggle the plug to get it to line up...                                  0\n",
            "..                                                 ...                                 ..\n",
            "994  The screen does get smudged easily because it ...                                  0\n",
            "995  What a piece of junk.. I lose more calls on th...                                  0\n",
            "996                       Item Does Not Match Picture.                                  0\n",
            "997  The only thing that disappoint me is the infra...                                  0\n",
            "998  You can not answer calls with the unit, never ...                                  0\n",
            "\n",
            "[999 rows x 2 columns],     A very, very, very slow-moving, aimless movie about a distressed, drifting young man.    0\n",
            "0    Not sure who was more lost - the flat characte...                                       0\n",
            "1    Attempting artiness with black & white and cle...                                       0\n",
            "2         Very little music or anything to speak of.                                         0\n",
            "3    The best scene in the movie was when Gerardo i...                                       1\n",
            "4    The rest of the movie lacks art, charm, meanin...                                       0\n",
            "..                                                 ...                                      ..\n",
            "742  I just got bored watching Jessice Lange take h...                                       0\n",
            "743  Unfortunately, any virtue in this film's produ...                                       0\n",
            "744                   In a word, it is embarrassing.                                         0\n",
            "745                               Exceptionally bad!                                         0\n",
            "746  All in all its an insult to one's intelligence...                                       0\n",
            "\n",
            "[747 rows x 2 columns],                               Wow... Loved this place.  1\n",
            "0                                   Crust is not good.  0\n",
            "1            Not tasty and the texture was just nasty.  0\n",
            "2    Stopped by during the late May bank holiday of...  1\n",
            "3    The selection on the menu was great and so wer...  1\n",
            "4       Now I am getting angry and I want my damn pho.  0\n",
            "..                                                 ... ..\n",
            "994  I think food should have flavor and texture an...  0\n",
            "995                           Appetite instantly gone.  0\n",
            "996  Overall I was not impressed and would not go b...  0\n",
            "997  The whole experience was underwhelming, and I ...  0\n",
            "998  Then, as if I hadn't wasted enough of my life ...  0\n",
            "\n",
            "[999 rows x 2 columns]]\n"
          ],
          "name": "stdout"
        }
      ]
    },
    {
      "cell_type": "code",
      "metadata": {
        "id": "dFtjC1q3axIm",
        "colab_type": "code",
        "colab": {}
      },
      "source": [
        "#Adding Column Headers\n",
        "for colname in dataSet:\n",
        "    colname.columns = [\"Message\",\"Target\"]"
      ],
      "execution_count": 0,
      "outputs": []
    },
    {
      "cell_type": "code",
      "metadata": {
        "id": "FwVGpQaUcJ7K",
        "colab_type": "code",
        "colab": {
          "base_uri": "https://localhost:8080/",
          "height": 212
        },
        "outputId": "c631b62b-bc4d-40a6-e7ec-335db2ca83d7"
      },
      "source": [
        "#Merging whole data into single dataset\n",
        "key = [\"Amazon\",\"IMDB\",\"Yelp\"]\n",
        "df = pd.concat(dataSet,keys=key)\n",
        "print(\"Size of the DataFrame = \",df.shape)\n",
        "df.head()"
      ],
      "execution_count": 6,
      "outputs": [
        {
          "output_type": "stream",
          "text": [
            "Size of the DataFrame =  (2745, 2)\n"
          ],
          "name": "stdout"
        },
        {
          "output_type": "execute_result",
          "data": {
            "text/html": [
              "<div>\n",
              "<style scoped>\n",
              "    .dataframe tbody tr th:only-of-type {\n",
              "        vertical-align: middle;\n",
              "    }\n",
              "\n",
              "    .dataframe tbody tr th {\n",
              "        vertical-align: top;\n",
              "    }\n",
              "\n",
              "    .dataframe thead th {\n",
              "        text-align: right;\n",
              "    }\n",
              "</style>\n",
              "<table border=\"1\" class=\"dataframe\">\n",
              "  <thead>\n",
              "    <tr style=\"text-align: right;\">\n",
              "      <th></th>\n",
              "      <th></th>\n",
              "      <th>Message</th>\n",
              "      <th>Target</th>\n",
              "    </tr>\n",
              "  </thead>\n",
              "  <tbody>\n",
              "    <tr>\n",
              "      <th rowspan=\"5\" valign=\"top\">Amazon</th>\n",
              "      <th>0</th>\n",
              "      <td>Good case, Excellent value.</td>\n",
              "      <td>1</td>\n",
              "    </tr>\n",
              "    <tr>\n",
              "      <th>1</th>\n",
              "      <td>Great for the jawbone.</td>\n",
              "      <td>1</td>\n",
              "    </tr>\n",
              "    <tr>\n",
              "      <th>2</th>\n",
              "      <td>Tied to charger for conversations lasting more...</td>\n",
              "      <td>0</td>\n",
              "    </tr>\n",
              "    <tr>\n",
              "      <th>3</th>\n",
              "      <td>The mic is great.</td>\n",
              "      <td>1</td>\n",
              "    </tr>\n",
              "    <tr>\n",
              "      <th>4</th>\n",
              "      <td>I have to jiggle the plug to get it to line up...</td>\n",
              "      <td>0</td>\n",
              "    </tr>\n",
              "  </tbody>\n",
              "</table>\n",
              "</div>"
            ],
            "text/plain": [
              "                                                    Message  Target\n",
              "Amazon 0                        Good case, Excellent value.       1\n",
              "       1                             Great for the jawbone.       1\n",
              "       2  Tied to charger for conversations lasting more...       0\n",
              "       3                                  The mic is great.       1\n",
              "       4  I have to jiggle the plug to get it to line up...       0"
            ]
          },
          "metadata": {
            "tags": []
          },
          "execution_count": 6
        }
      ]
    },
    {
      "cell_type": "code",
      "metadata": {
        "id": "Yo63zJLhcM_A",
        "colab_type": "code",
        "colab": {
          "base_uri": "https://localhost:8080/",
          "height": 67
        },
        "outputId": "35429240-87cc-41ac-de8e-5ddc42e0b5b6"
      },
      "source": [
        "#Data cleaning\n",
        "#Finding if there is missing data\n",
        "df.isnull().sum()"
      ],
      "execution_count": 7,
      "outputs": [
        {
          "output_type": "execute_result",
          "data": {
            "text/plain": [
              "Message    0\n",
              "Target     0\n",
              "dtype: int64"
            ]
          },
          "metadata": {
            "tags": []
          },
          "execution_count": 7
        }
      ]
    },
    {
      "cell_type": "code",
      "metadata": {
        "id": "IjxMAvkPde9L",
        "colab_type": "code",
        "colab": {
          "base_uri": "https://localhost:8080/",
          "height": 54
        },
        "outputId": "b1de01fd-3bf7-4839-b476-b401e6e86e71"
      },
      "source": [
        "#Starting with NLP\n",
        "#Loading English Language\n",
        "nlp = spacy.load(\"en\")\n",
        "#Loading Stop words to filter later\n",
        "stop_words = list(STOP_WORDS)\n",
        "print(stop_words)"
      ],
      "execution_count": 8,
      "outputs": [
        {
          "output_type": "stream",
          "text": [
            "['next', 'to', 'do', 'go', 'ever', 'noone', 'much', 'after', 'latterly', 'everywhere', 'nine', 'though', 'while', 'yourself', 'already', 'of', 'anyone', 'became', 'yet', 'all', 'until', 'get', '‘s', 'call', 'itself', 'nevertheless', 'did', 'him', 'always', 'empty', 'hundred', 'toward', 'full', 'its', 'has', 'and', 'six', 'three', 'due', 'what', 'his', 'alone', 'eleven', 'last', 'somewhere', '‘m', 'each', 'around', 'along', 'cannot', 'else', '’ve', 're', 'then', 'every', 'out', 'although', 'sixty', 'without', 'namely', 'whither', 'various', 'thus', 'would', 'could', 'had', 'should', \"'d\", 'above', 'he', 'latter', 'whether', 'make', 'whoever', 'unless', 'therefore', 'thereupon', 'part', 'seems', 'only', 'nowhere', 'them', 'still', 'you', '‘ve', 'twelve', 'is', 'serious', 'again', 'beside', 'former', 'rather', 'seemed', 'being', 'even', 'for', 'anything', 'through', 'together', 'here', '‘re', 'besides', 'by', 'ourselves', 'no', 'sometime', 'among', 'are', 'however', 'beyond', 'if', 'be', 'me', 'upon', 'hereupon', 'give', 'hereby', 'side', 'indeed', 'on', 'top', 'have', 'must', 'up', 'can', 'against', 'before', 'own', 'their', 'fifty', 'yours', \"'ll\", 'i', 'over', 'these', 'may', 'now', '’s', 'whereafter', \"'m\", 'with', 'any', 'herein', 'please', 'am', 'same', 'n‘t', 'ours', 'an', 'name', 'somehow', 'whole', 'whereby', 'between', 'few', 'never', 'whose', 'eight', 'keep', 'within', 'towards', 'beforehand', 'themselves', 'become', 'some', 'done', 'fifteen', 'less', 'many', 'we', 'whence', 'hence', 'nothing', 'which', 'at', 'everyone', 'across', 'neither', 'show', 'amongst', 'she', 'ten', 'thence', 'enough', 'seem', 'a', 'in', 'put', 'n’t', 'one', 'using', 'they', '’ll', 'that', 'first', 'once', 'when', 'thereby', 'behind', 'see', 'used', 'will', 'back', '‘ll', 'hers', 'well', 'who', 'wherein', 'seeming', 'moreover', 'was', 'this', \"n't\", 'four', 'those', 'either', 'meanwhile', 'such', 'might', 'were', 'where', 'mostly', 'amount', 'other', 'per', 'whereas', 'wherever', 'nobody', 'the', 'also', 'further', \"'s\", '’re', 'anyway', 'move', 'afterwards', 'two', 'whatever', 'almost', 'becomes', 'nor', 'throughout', 'too', 'something', 'quite', 'how', 'us', 'your', 'thru', 'formerly', 'about', 'another', 'does', 'elsewhere', 'her', 'bottom', 'myself', 'since', 'so', 'take', 'twenty', 'mine', 'off', 'hereafter', 'yourselves', 'onto', 'really', 'both', 'someone', 'third', 'very', 'why', 'several', 'therein', 'under', 'say', 'regarding', 'forty', 'anyhow', 'becoming', 'made', 'it', 'as', 'during', 'front', 'everything', 'via', 'whenever', 'because', \"'ve\", 'down', 'least', 'my', 'but', 'none', 'anywhere', 'otherwise', 'just', 'whereupon', 'ca', 'except', 'herself', 'not', 'or', 'our', 'below', '’d', '’m', 'there', 'from', 'perhaps', 'whom', 'into', 'five', 'than', '‘d', 'more', 'himself', 'most', 'sometimes', 'thereafter', \"'re\", 'often', 'doing', 'been', 'others']\n"
          ],
          "name": "stdout"
        }
      ]
    },
    {
      "cell_type": "code",
      "metadata": {
        "id": "2IFvh7rqeD0l",
        "colab_type": "code",
        "colab": {}
      },
      "source": [
        "#Morphological analysis\n",
        "txt = str(df)\n",
        "docx = nlp(txt)"
      ],
      "execution_count": 0,
      "outputs": []
    },
    {
      "cell_type": "code",
      "metadata": {
        "id": "UzNlbWkYfIZi",
        "colab_type": "code",
        "colab": {
          "base_uri": "https://localhost:8080/",
          "height": 1000
        },
        "outputId": "3c86a59e-202e-4c0b-a158-b0907fcb3fd0"
      },
      "source": [
        "#Lemmatizing of tokens\n",
        "for word in docx:\n",
        "    print(word.text,\"Lemma =>\",word.lemma_)"
      ],
      "execution_count": 10,
      "outputs": [
        {
          "output_type": "stream",
          "text": [
            "                                                       Lemma =>                                                       \n",
            "Message Lemma => message\n",
            "  Lemma =>  \n",
            "Target Lemma => Target\n",
            "\n",
            " Lemma => \n",
            "\n",
            "Amazon Lemma => Amazon\n",
            "0 Lemma => 0\n",
            "                          Lemma =>                          \n",
            "Good Lemma => good\n",
            "case Lemma => case\n",
            ", Lemma => ,\n",
            "Excellent Lemma => excellent\n",
            "value Lemma => value\n",
            ". Lemma => .\n",
            "       Lemma =>       \n",
            "1 Lemma => 1\n",
            "\n",
            "        Lemma => \n",
            "       \n",
            "1 Lemma => 1\n",
            "                               Lemma =>                               \n",
            "Great Lemma => Great\n",
            "for Lemma => for\n",
            "the Lemma => the\n",
            "jawbone Lemma => jawbone\n",
            ". Lemma => .\n",
            "       Lemma =>       \n",
            "1 Lemma => 1\n",
            "\n",
            "        Lemma => \n",
            "       \n",
            "2 Lemma => 2\n",
            "    Lemma =>    \n",
            "Tied Lemma => tie\n",
            "to Lemma => to\n",
            "charger Lemma => charger\n",
            "for Lemma => for\n",
            "conversations Lemma => conversation\n",
            "lasting Lemma => last\n",
            "more Lemma => more\n",
            "... Lemma => ...\n",
            "       Lemma =>       \n",
            "0 Lemma => 0\n",
            "\n",
            "        Lemma => \n",
            "       \n",
            "3 Lemma => 3\n",
            "                                    Lemma =>                                    \n",
            "The Lemma => the\n",
            "mic Lemma => mic\n",
            "is Lemma => be\n",
            "great Lemma => great\n",
            ". Lemma => .\n",
            "       Lemma =>       \n",
            "1 Lemma => 1\n",
            "\n",
            "        Lemma => \n",
            "       \n",
            "4 Lemma => 4\n",
            "    Lemma =>    \n",
            "I Lemma => -PRON-\n",
            "have Lemma => have\n",
            "to Lemma => to\n",
            "jiggle Lemma => jiggle\n",
            "the Lemma => the\n",
            "plug Lemma => plug\n",
            "to Lemma => to\n",
            "get Lemma => get\n",
            "it Lemma => -PRON-\n",
            "to Lemma => to\n",
            "line Lemma => line\n",
            "up Lemma => up\n",
            "... Lemma => ...\n",
            "       Lemma =>       \n",
            "0 Lemma => 0\n",
            "\n",
            " Lemma => \n",
            "\n",
            "... Lemma => ...\n",
            "                                                       Lemma =>                                                       \n",
            "... Lemma => ...\n",
            "     Lemma =>     \n",
            "... Lemma => ...\n",
            "\n",
            " Lemma => \n",
            "\n",
            "Yelp Lemma => Yelp\n",
            "   Lemma =>   \n",
            "994 Lemma => 994\n",
            "  Lemma =>  \n",
            "I Lemma => -PRON-\n",
            "think Lemma => think\n",
            "food Lemma => food\n",
            "should Lemma => should\n",
            "have Lemma => have\n",
            "flavor Lemma => flavor\n",
            "and Lemma => and\n",
            "texture Lemma => texture\n",
            "an Lemma => an\n",
            "... Lemma => ...\n",
            "       Lemma =>       \n",
            "0 Lemma => 0\n",
            "\n",
            "        Lemma => \n",
            "       \n",
            "995 Lemma => 995\n",
            "                           Lemma =>                           \n",
            "Appetite Lemma => Appetite\n",
            "instantly Lemma => instantly\n",
            "gone Lemma => go\n",
            ". Lemma => .\n",
            "       Lemma =>       \n",
            "0 Lemma => 0\n",
            "\n",
            "        Lemma => \n",
            "       \n",
            "996 Lemma => 996\n",
            "  Lemma =>  \n",
            "Overall Lemma => overall\n",
            "I Lemma => -PRON-\n",
            "was Lemma => be\n",
            "not Lemma => not\n",
            "impressed Lemma => impressed\n",
            "and Lemma => and\n",
            "would Lemma => would\n",
            "not Lemma => not\n",
            "go Lemma => go\n",
            "b Lemma => b\n",
            "... Lemma => ...\n",
            "       Lemma =>       \n",
            "0 Lemma => 0\n",
            "\n",
            "        Lemma => \n",
            "       \n",
            "997 Lemma => 997\n",
            "  Lemma =>  \n",
            "The Lemma => the\n",
            "whole Lemma => whole\n",
            "experience Lemma => experience\n",
            "was Lemma => be\n",
            "underwhelming Lemma => underwhelming\n",
            ", Lemma => ,\n",
            "and Lemma => and\n",
            "I Lemma => -PRON-\n",
            "... Lemma => ...\n",
            "       Lemma =>       \n",
            "0 Lemma => 0\n",
            "\n",
            "        Lemma => \n",
            "       \n",
            "998 Lemma => 998\n",
            "  Lemma =>  \n",
            "Then Lemma => then\n",
            ", Lemma => ,\n",
            "as Lemma => as\n",
            "if Lemma => if\n",
            "I Lemma => -PRON-\n",
            "had Lemma => have\n",
            "n't Lemma => not\n",
            "wasted Lemma => waste\n",
            "enough Lemma => enough\n",
            "of Lemma => of\n",
            "my Lemma => -PRON-\n",
            "life Lemma => life\n",
            "... Lemma => ...\n",
            "       Lemma =>       \n",
            "0 Lemma => 0\n",
            "\n",
            "\n",
            " Lemma => \n",
            "\n",
            "\n",
            "[ Lemma => [\n",
            "2745 Lemma => 2745\n",
            "rows Lemma => row\n",
            "x Lemma => x\n",
            "2 Lemma => 2\n",
            "columns Lemma => column\n",
            "] Lemma => ]\n"
          ],
          "name": "stdout"
        }
      ]
    },
    {
      "cell_type": "code",
      "metadata": {
        "id": "9Miy1FNBhMUF",
        "colab_type": "code",
        "colab": {}
      },
      "source": [
        "#Lemma that are not pronouns\n",
        "lemma_filter1 = [word.lemma_.lower().strip() if word.lemma_ != \"-PRON-\" else word.lower_ for word in docx]"
      ],
      "execution_count": 0,
      "outputs": []
    },
    {
      "cell_type": "code",
      "metadata": {
        "id": "qirxBG64hVii",
        "colab_type": "code",
        "colab": {}
      },
      "source": [
        "#Filtering out Stopwords and Punctuations\n",
        "Filter_txt = [ word for word in docx if word.is_stop == False and not word.is_punct ]"
      ],
      "execution_count": 0,
      "outputs": []
    },
    {
      "cell_type": "code",
      "metadata": {
        "id": "2dnNZPuCiFn5",
        "colab_type": "code",
        "colab": {}
      },
      "source": [
        "#Linguistic Features\n",
        "#Punctuations\n",
        "punctuations = string.punctuation\n",
        "#Parser\n",
        "parser = English()"
      ],
      "execution_count": 0,
      "outputs": []
    },
    {
      "cell_type": "code",
      "metadata": {
        "id": "BquK5E7fm8Z5",
        "colab_type": "code",
        "colab": {}
      },
      "source": [
        "#Function to create tokens of text\n",
        "def spacy_tokenizer(sentence):\n",
        "    mytokens = parser(sentence)\n",
        "    mytokens = [ word.lemma_.lower().strip() if word.lemma_ != \"-PRON-\" else word.lower_ for word in mytokens ]\n",
        "    mytokens = [ word for word in mytokens if word not in stop_words and word not in punctuations ]\n",
        "    return mytokens"
      ],
      "execution_count": 0,
      "outputs": []
    },
    {
      "cell_type": "code",
      "metadata": {
        "id": "PwCcY-i9ntl3",
        "colab_type": "code",
        "colab": {}
      },
      "source": [
        "#Custom transformer using spaCy \n",
        "class predictors(TransformerMixin):\n",
        "    def transform(self, X, **transform_params):\n",
        "        return [clean_text(text) for text in X]\n",
        "    def fit(self, X, y=None, **fit_params):\n",
        "        return self\n",
        "    def get_params(self, deep=True):\n",
        "        return {}\n",
        "\n",
        "#Function to clean the text \n",
        "def clean_text(text):     \n",
        "    return text.strip().lower()"
      ],
      "execution_count": 0,
      "outputs": []
    },
    {
      "cell_type": "code",
      "metadata": {
        "id": "qRde39tPohPy",
        "colab_type": "code",
        "colab": {}
      },
      "source": [
        "#Vectorization\n",
        "vectorizer = CountVectorizer(tokenizer = spacy_tokenizer, ngram_range=(1,1)) \n",
        "classifier = LinearSVC()\n",
        "#Using Tfidf\n",
        "tfvectorizer = TfidfVectorizer(tokenizer = spacy_tokenizer)"
      ],
      "execution_count": 0,
      "outputs": []
    },
    {
      "cell_type": "code",
      "metadata": {
        "id": "JUMFTEYLpYV0",
        "colab_type": "code",
        "colab": {}
      },
      "source": [
        "#Splitting data\n",
        "message = df['Message']\n",
        "target = df['Target']\n",
        "message_train, message_test, target_train, target_test = train_test_split(message, target, test_size=0.2, random_state=42)"
      ],
      "execution_count": 0,
      "outputs": []
    },
    {
      "cell_type": "code",
      "metadata": {
        "id": "mRipJ8Czpv1C",
        "colab_type": "code",
        "colab": {}
      },
      "source": [
        "# Create the  pipeline to clean, tokenize, vectorize, and classify \n",
        "pipe = Pipeline([(\"cleaner\", predictors()),\n",
        "                 ('vectorizer', vectorizer),\n",
        "                 ('classifier', classifier)])"
      ],
      "execution_count": 0,
      "outputs": []
    },
    {
      "cell_type": "code",
      "metadata": {
        "id": "quA8B6V2p8IG",
        "colab_type": "code",
        "colab": {
          "base_uri": "https://localhost:8080/",
          "height": 353
        },
        "outputId": "e547b4cc-b2e2-4df6-cfd6-1e3bce6457ae"
      },
      "source": [
        "# Fit our data\n",
        "pipe.fit(message_train,target_train)"
      ],
      "execution_count": 25,
      "outputs": [
        {
          "output_type": "execute_result",
          "data": {
            "text/plain": [
              "Pipeline(memory=None,\n",
              "         steps=[('cleaner', <__main__.predictors object at 0x7feecbd9aa20>),\n",
              "                ('vectorizer',\n",
              "                 CountVectorizer(analyzer='word', binary=False,\n",
              "                                 decode_error='strict',\n",
              "                                 dtype=<class 'numpy.int64'>, encoding='utf-8',\n",
              "                                 input='content', lowercase=True, max_df=1.0,\n",
              "                                 max_features=None, min_df=1,\n",
              "                                 ngram_range=(1, 1), preprocessor=None,\n",
              "                                 stop_words=None, strip_accents=None,\n",
              "                                 token_pattern='(?u)\\\\b\\\\w\\\\w+\\\\b',\n",
              "                                 tokenizer=<function spacy_tokenizer at 0x7feecbd98048>,\n",
              "                                 vocabulary=None)),\n",
              "                ('classifier',\n",
              "                 LinearSVC(C=1.0, class_weight=None, dual=True,\n",
              "                           fit_intercept=True, intercept_scaling=1,\n",
              "                           loss='squared_hinge', max_iter=1000,\n",
              "                           multi_class='ovr', penalty='l2', random_state=None,\n",
              "                           tol=0.0001, verbose=0))],\n",
              "         verbose=False)"
            ]
          },
          "metadata": {
            "tags": []
          },
          "execution_count": 25
        }
      ]
    },
    {
      "cell_type": "code",
      "metadata": {
        "id": "2L0iQ46UqAey",
        "colab_type": "code",
        "colab": {
          "base_uri": "https://localhost:8080/",
          "height": 295
        },
        "outputId": "cc8af8ea-3bde-4c10-b3b7-dec5f7a41105"
      },
      "source": [
        "#Testing model\n",
        "# Predicting with a test dataset\n",
        "test_prediction = pipe.predict(message_test)\n",
        "sns.distplot(test_prediction, color = \"#000000\")\n",
        "plt.xlabel(\"0 - Negative, 1 - Positive\")\n",
        "plt.ylabel(\"Number of Tweets\")\n",
        "plt.title(\"Test Prediction\")\n",
        "plt.show()"
      ],
      "execution_count": 34,
      "outputs": [
        {
          "output_type": "display_data",
          "data": {
            "image/png": "[encoded data removed]",
            "text/plain": [
              "<Figure size 432x288 with 1 Axes>"
            ]
          },
          "metadata": {
            "tags": []
          }
        }
      ]
    },
    {
      "cell_type": "code",
      "metadata": {
        "id": "XAmeceNRqawi",
        "colab_type": "code",
        "colab": {
          "base_uri": "https://localhost:8080/",
          "height": 50
        },
        "outputId": "28bf78eb-2d10-4834-ecb6-4c9e5550fdcc"
      },
      "source": [
        "# Accuracy\n",
        "print(\"Accuracy: \",pipe.score(message_test,target_test))\n",
        "print(\"Accuracy: \",pipe.score(message_test,test_prediction))"
      ],
      "execution_count": 35,
      "outputs": [
        {
          "output_type": "stream",
          "text": [
            "Accuracy:  0.7978142076502732\n",
            "Accuracy:  1.0\n"
          ],
          "name": "stdout"
        }
      ]
    }
  ]
}